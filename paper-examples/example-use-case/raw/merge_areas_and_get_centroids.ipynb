{
 "cells": [
  {
   "cell_type": "code",
   "execution_count": 1,
   "id": "adolescent-graduate",
   "metadata": {},
   "outputs": [],
   "source": [
    "import os\n",
    "import geopandas as gpd"
   ]
  },
  {
   "cell_type": "code",
   "execution_count": 5,
   "id": "attempted-karaoke",
   "metadata": {},
   "outputs": [],
   "source": [
    "base_path = '/home/szymon/Documents/a02_notebooks/pyinterpolate_notebooks/breast_cancer_2/population_blocks_data/'\n",
    "\n",
    "dirs = os.listdir(base_path)"
   ]
  },
  {
   "cell_type": "code",
   "execution_count": 13,
   "id": "dried-essex",
   "metadata": {},
   "outputs": [],
   "source": [
    "geodataframes_files = []\n",
    "\n",
    "for di in dirs:\n",
    "    if di.endswith('pophu') :\n",
    "        new_dir = os.path.join(base_path, di)\n",
    "        new_dirs = os.listdir(new_dir)\n",
    "        for f in new_dirs:\n",
    "            if f.endswith('.shp'):\n",
    "                new_path = os.path.join(new_dir, f)\n",
    "                geodataframes_files.append(new_path)"
   ]
  },
  {
   "cell_type": "code",
   "execution_count": 14,
   "id": "sacred-flooring",
   "metadata": {},
   "outputs": [
    {
     "data": {
      "text/plain": [
       "['/home/szymon/Documents/a02_notebooks/pyinterpolate_notebooks/breast_cancer_2/population_blocks_data/tabblock2010_42_pophu/tabblock2010_42_pophu.shp',\n",
       " '/home/szymon/Documents/a02_notebooks/pyinterpolate_notebooks/breast_cancer_2/population_blocks_data/tabblock2010_50_pophu/tabblock2010_50_pophu.shp',\n",
       " '/home/szymon/Documents/a02_notebooks/pyinterpolate_notebooks/breast_cancer_2/population_blocks_data/tabblock2010_25_pophu/tabblock2010_25_pophu.shp',\n",
       " '/home/szymon/Documents/a02_notebooks/pyinterpolate_notebooks/breast_cancer_2/population_blocks_data/tabblock2010_23_pophu/tabblock2010_23_pophu.shp',\n",
       " '/home/szymon/Documents/a02_notebooks/pyinterpolate_notebooks/breast_cancer_2/population_blocks_data/tabblock2010_09_pophu/tabblock2010_09_pophu.shp',\n",
       " '/home/szymon/Documents/a02_notebooks/pyinterpolate_notebooks/breast_cancer_2/population_blocks_data/tabblock2010_34_pophu/tabblock2010_34_pophu.shp',\n",
       " '/home/szymon/Documents/a02_notebooks/pyinterpolate_notebooks/breast_cancer_2/population_blocks_data/tabblock2010_36_pophu/tabblock2010_36_pophu.shp',\n",
       " '/home/szymon/Documents/a02_notebooks/pyinterpolate_notebooks/breast_cancer_2/population_blocks_data/tabblock2010_33_pophu/tabblock2010_33_pophu.shp',\n",
       " '/home/szymon/Documents/a02_notebooks/pyinterpolate_notebooks/breast_cancer_2/population_blocks_data/tabblock2010_44_pophu/tabblock2010_44_pophu.shp']"
      ]
     },
     "execution_count": 14,
     "metadata": {},
     "output_type": "execute_result"
    }
   ],
   "source": [
    "geodataframes_files"
   ]
  },
  {
   "cell_type": "code",
   "execution_count": 15,
   "id": "foreign-intention",
   "metadata": {},
   "outputs": [],
   "source": [
    "gdf_t = gpd.read_file(geodataframes_files[0])"
   ]
  },
  {
   "cell_type": "code",
   "execution_count": 16,
   "id": "later-stuff",
   "metadata": {},
   "outputs": [
    {
     "data": {
      "text/html": [
       "<div>\n",
       "<style scoped>\n",
       "    .dataframe tbody tr th:only-of-type {\n",
       "        vertical-align: middle;\n",
       "    }\n",
       "\n",
       "    .dataframe tbody tr th {\n",
       "        vertical-align: top;\n",
       "    }\n",
       "\n",
       "    .dataframe thead th {\n",
       "        text-align: right;\n",
       "    }\n",
       "</style>\n",
       "<table border=\"1\" class=\"dataframe\">\n",
       "  <thead>\n",
       "    <tr style=\"text-align: right;\">\n",
       "      <th></th>\n",
       "      <th>STATEFP10</th>\n",
       "      <th>COUNTYFP10</th>\n",
       "      <th>TRACTCE10</th>\n",
       "      <th>BLOCKCE</th>\n",
       "      <th>BLOCKID10</th>\n",
       "      <th>PARTFLG</th>\n",
       "      <th>HOUSING10</th>\n",
       "      <th>POP10</th>\n",
       "      <th>geometry</th>\n",
       "    </tr>\n",
       "  </thead>\n",
       "  <tbody>\n",
       "    <tr>\n",
       "      <th>0</th>\n",
       "      <td>42</td>\n",
       "      <td>001</td>\n",
       "      <td>030500</td>\n",
       "      <td>2075</td>\n",
       "      <td>420010305002075</td>\n",
       "      <td>N</td>\n",
       "      <td>1</td>\n",
       "      <td>1</td>\n",
       "      <td>POLYGON ((-77.25180 39.90578, -77.25178 39.905...</td>\n",
       "    </tr>\n",
       "    <tr>\n",
       "      <th>1</th>\n",
       "      <td>42</td>\n",
       "      <td>001</td>\n",
       "      <td>030400</td>\n",
       "      <td>1048</td>\n",
       "      <td>420010304001048</td>\n",
       "      <td>N</td>\n",
       "      <td>3</td>\n",
       "      <td>6</td>\n",
       "      <td>POLYGON ((-77.37956 39.90604, -77.37960 39.906...</td>\n",
       "    </tr>\n",
       "    <tr>\n",
       "      <th>2</th>\n",
       "      <td>42</td>\n",
       "      <td>001</td>\n",
       "      <td>031300</td>\n",
       "      <td>1027</td>\n",
       "      <td>420010313001027</td>\n",
       "      <td>N</td>\n",
       "      <td>7</td>\n",
       "      <td>14</td>\n",
       "      <td>POLYGON ((-77.08946 39.74321, -77.08905 39.743...</td>\n",
       "    </tr>\n",
       "    <tr>\n",
       "      <th>3</th>\n",
       "      <td>42</td>\n",
       "      <td>001</td>\n",
       "      <td>030400</td>\n",
       "      <td>1071</td>\n",
       "      <td>420010304001071</td>\n",
       "      <td>N</td>\n",
       "      <td>5</td>\n",
       "      <td>6</td>\n",
       "      <td>POLYGON ((-77.43259 39.90070, -77.43252 39.900...</td>\n",
       "    </tr>\n",
       "    <tr>\n",
       "      <th>4</th>\n",
       "      <td>42</td>\n",
       "      <td>001</td>\n",
       "      <td>030400</td>\n",
       "      <td>1069</td>\n",
       "      <td>420010304001069</td>\n",
       "      <td>N</td>\n",
       "      <td>17</td>\n",
       "      <td>37</td>\n",
       "      <td>POLYGON ((-77.41657 39.91041, -77.41581 39.911...</td>\n",
       "    </tr>\n",
       "  </tbody>\n",
       "</table>\n",
       "</div>"
      ],
      "text/plain": [
       "  STATEFP10 COUNTYFP10 TRACTCE10 BLOCKCE        BLOCKID10 PARTFLG  HOUSING10  \\\n",
       "0        42        001    030500    2075  420010305002075       N          1   \n",
       "1        42        001    030400    1048  420010304001048       N          3   \n",
       "2        42        001    031300    1027  420010313001027       N          7   \n",
       "3        42        001    030400    1071  420010304001071       N          5   \n",
       "4        42        001    030400    1069  420010304001069       N         17   \n",
       "\n",
       "   POP10                                           geometry  \n",
       "0      1  POLYGON ((-77.25180 39.90578, -77.25178 39.905...  \n",
       "1      6  POLYGON ((-77.37956 39.90604, -77.37960 39.906...  \n",
       "2     14  POLYGON ((-77.08946 39.74321, -77.08905 39.743...  \n",
       "3      6  POLYGON ((-77.43259 39.90070, -77.43252 39.900...  \n",
       "4     37  POLYGON ((-77.41657 39.91041, -77.41581 39.911...  "
      ]
     },
     "execution_count": 16,
     "metadata": {},
     "output_type": "execute_result"
    }
   ],
   "source": [
    "gdf_t.head()"
   ]
  },
  {
   "cell_type": "code",
   "execution_count": 17,
   "id": "packed-chambers",
   "metadata": {},
   "outputs": [],
   "source": [
    "core = gdf_t[['POP10', 'geometry']].copy()\n",
    "\n",
    "for f in geodataframes_files[1:]:\n",
    "    gdf = gpd.read_file(f)\n",
    "    gdf = gdf[['POP10', 'geometry']]\n",
    "    core = core.append(gdf, ignore_index=True)"
   ]
  },
  {
   "cell_type": "code",
   "execution_count": 18,
   "id": "registered-reserve",
   "metadata": {},
   "outputs": [],
   "source": [
    "core['centroid'] = core.centroid"
   ]
  },
  {
   "cell_type": "code",
   "execution_count": 29,
   "id": "former-bulletin",
   "metadata": {},
   "outputs": [],
   "source": [
    "generated_pop_blocks = core.drop('geometry', axis=1)"
   ]
  },
  {
   "cell_type": "code",
   "execution_count": 30,
   "id": "interstate-london",
   "metadata": {},
   "outputs": [
    {
     "data": {
      "text/html": [
       "<div>\n",
       "<style scoped>\n",
       "    .dataframe tbody tr th:only-of-type {\n",
       "        vertical-align: middle;\n",
       "    }\n",
       "\n",
       "    .dataframe tbody tr th {\n",
       "        vertical-align: top;\n",
       "    }\n",
       "\n",
       "    .dataframe thead th {\n",
       "        text-align: right;\n",
       "    }\n",
       "</style>\n",
       "<table border=\"1\" class=\"dataframe\">\n",
       "  <thead>\n",
       "    <tr style=\"text-align: right;\">\n",
       "      <th></th>\n",
       "      <th>POP10</th>\n",
       "      <th>centroid</th>\n",
       "    </tr>\n",
       "  </thead>\n",
       "  <tbody>\n",
       "    <tr>\n",
       "      <th>0</th>\n",
       "      <td>1</td>\n",
       "      <td>POINT (-77.25832 39.90518)</td>\n",
       "    </tr>\n",
       "    <tr>\n",
       "      <th>1</th>\n",
       "      <td>6</td>\n",
       "      <td>POINT (-77.37845 39.90668)</td>\n",
       "    </tr>\n",
       "    <tr>\n",
       "      <th>2</th>\n",
       "      <td>14</td>\n",
       "      <td>POINT (-77.08970 39.74257)</td>\n",
       "    </tr>\n",
       "    <tr>\n",
       "      <th>3</th>\n",
       "      <td>6</td>\n",
       "      <td>POINT (-77.43179 39.89980)</td>\n",
       "    </tr>\n",
       "    <tr>\n",
       "      <th>4</th>\n",
       "      <td>37</td>\n",
       "      <td>POINT (-77.40958 39.91029)</td>\n",
       "    </tr>\n",
       "    <tr>\n",
       "      <th>...</th>\n",
       "      <td>...</td>\n",
       "      <td>...</td>\n",
       "    </tr>\n",
       "    <tr>\n",
       "      <th>1342499</th>\n",
       "      <td>0</td>\n",
       "      <td>POINT (-71.72946 41.35057)</td>\n",
       "    </tr>\n",
       "    <tr>\n",
       "      <th>1342500</th>\n",
       "      <td>0</td>\n",
       "      <td>POINT (-71.62523 41.36541)</td>\n",
       "    </tr>\n",
       "    <tr>\n",
       "      <th>1342501</th>\n",
       "      <td>0</td>\n",
       "      <td>POINT (-71.50431 41.36529)</td>\n",
       "    </tr>\n",
       "    <tr>\n",
       "      <th>1342502</th>\n",
       "      <td>54</td>\n",
       "      <td>POINT (-71.51705 41.53810)</td>\n",
       "    </tr>\n",
       "    <tr>\n",
       "      <th>1342503</th>\n",
       "      <td>11</td>\n",
       "      <td>POINT (-71.49574 41.58013)</td>\n",
       "    </tr>\n",
       "  </tbody>\n",
       "</table>\n",
       "<p>1342504 rows × 2 columns</p>\n",
       "</div>"
      ],
      "text/plain": [
       "         POP10                    centroid\n",
       "0            1  POINT (-77.25832 39.90518)\n",
       "1            6  POINT (-77.37845 39.90668)\n",
       "2           14  POINT (-77.08970 39.74257)\n",
       "3            6  POINT (-77.43179 39.89980)\n",
       "4           37  POINT (-77.40958 39.91029)\n",
       "...        ...                         ...\n",
       "1342499      0  POINT (-71.72946 41.35057)\n",
       "1342500      0  POINT (-71.62523 41.36541)\n",
       "1342501      0  POINT (-71.50431 41.36529)\n",
       "1342502     54  POINT (-71.51705 41.53810)\n",
       "1342503     11  POINT (-71.49574 41.58013)\n",
       "\n",
       "[1342504 rows x 2 columns]"
      ]
     },
     "execution_count": 30,
     "metadata": {},
     "output_type": "execute_result"
    }
   ],
   "source": [
    "generated_pop_blocks"
   ]
  },
  {
   "cell_type": "code",
   "execution_count": 31,
   "id": "closing-globe",
   "metadata": {},
   "outputs": [
    {
     "data": {
      "text/plain": [
       "geopandas.geodataframe.GeoDataFrame"
      ]
     },
     "execution_count": 31,
     "metadata": {},
     "output_type": "execute_result"
    }
   ],
   "source": [
    "type(generated_pop_blocks)"
   ]
  },
  {
   "cell_type": "code",
   "execution_count": 32,
   "id": "reliable-income",
   "metadata": {},
   "outputs": [
    {
     "data": {
      "text/plain": [
       "<Geographic 2D CRS: EPSG:4269>\n",
       "Name: NAD83\n",
       "Axis Info [ellipsoidal]:\n",
       "- Lat[north]: Geodetic latitude (degree)\n",
       "- Lon[east]: Geodetic longitude (degree)\n",
       "Area of Use:\n",
       "- name: North America - NAD83\n",
       "- bounds: (167.65, 14.92, -47.74, 86.46)\n",
       "Datum: North American Datum 1983\n",
       "- Ellipsoid: GRS 1980\n",
       "- Prime Meridian: Greenwich"
      ]
     },
     "execution_count": 32,
     "metadata": {},
     "output_type": "execute_result"
    }
   ],
   "source": [
    "core.crs"
   ]
  },
  {
   "cell_type": "code",
   "execution_count": 33,
   "id": "pressed-waste",
   "metadata": {},
   "outputs": [],
   "source": [
    "generated_pop_blocks.columns = ['POP10', 'geometry']"
   ]
  },
  {
   "cell_type": "code",
   "execution_count": 34,
   "id": "gorgeous-disaster",
   "metadata": {},
   "outputs": [],
   "source": [
    "generated_pop_blocks.geometry = generated_pop_blocks['geometry']"
   ]
  },
  {
   "cell_type": "code",
   "execution_count": 35,
   "id": "occasional-career",
   "metadata": {},
   "outputs": [
    {
     "data": {
      "text/html": [
       "<div>\n",
       "<style scoped>\n",
       "    .dataframe tbody tr th:only-of-type {\n",
       "        vertical-align: middle;\n",
       "    }\n",
       "\n",
       "    .dataframe tbody tr th {\n",
       "        vertical-align: top;\n",
       "    }\n",
       "\n",
       "    .dataframe thead th {\n",
       "        text-align: right;\n",
       "    }\n",
       "</style>\n",
       "<table border=\"1\" class=\"dataframe\">\n",
       "  <thead>\n",
       "    <tr style=\"text-align: right;\">\n",
       "      <th></th>\n",
       "      <th>POP10</th>\n",
       "      <th>geometry</th>\n",
       "    </tr>\n",
       "  </thead>\n",
       "  <tbody>\n",
       "    <tr>\n",
       "      <th>0</th>\n",
       "      <td>1</td>\n",
       "      <td>POINT (-77.25832 39.90518)</td>\n",
       "    </tr>\n",
       "    <tr>\n",
       "      <th>1</th>\n",
       "      <td>6</td>\n",
       "      <td>POINT (-77.37845 39.90668)</td>\n",
       "    </tr>\n",
       "    <tr>\n",
       "      <th>2</th>\n",
       "      <td>14</td>\n",
       "      <td>POINT (-77.08970 39.74257)</td>\n",
       "    </tr>\n",
       "    <tr>\n",
       "      <th>3</th>\n",
       "      <td>6</td>\n",
       "      <td>POINT (-77.43179 39.89980)</td>\n",
       "    </tr>\n",
       "    <tr>\n",
       "      <th>4</th>\n",
       "      <td>37</td>\n",
       "      <td>POINT (-77.40958 39.91029)</td>\n",
       "    </tr>\n",
       "  </tbody>\n",
       "</table>\n",
       "</div>"
      ],
      "text/plain": [
       "   POP10                    geometry\n",
       "0      1  POINT (-77.25832 39.90518)\n",
       "1      6  POINT (-77.37845 39.90668)\n",
       "2     14  POINT (-77.08970 39.74257)\n",
       "3      6  POINT (-77.43179 39.89980)\n",
       "4     37  POINT (-77.40958 39.91029)"
      ]
     },
     "execution_count": 35,
     "metadata": {},
     "output_type": "execute_result"
    }
   ],
   "source": [
    "generated_pop_blocks.head()"
   ]
  },
  {
   "cell_type": "code",
   "execution_count": 36,
   "id": "polished-vitamin",
   "metadata": {},
   "outputs": [
    {
     "name": "stderr",
     "output_type": "stream",
     "text": [
      "CPLE_NotSupported in driver ESRI Shapefile does not support creation option ENCODING\n"
     ]
    }
   ],
   "source": [
    "generated_pop_blocks.to_file('population_centroids.shp', encoding='utf-8')"
   ]
  },
  {
   "cell_type": "code",
   "execution_count": null,
   "id": "desirable-lightning",
   "metadata": {},
   "outputs": [],
   "source": []
  }
 ],
 "metadata": {
  "kernelspec": {
   "display_name": "Python 3",
   "language": "python",
   "name": "python3"
  },
  "language_info": {
   "codemirror_mode": {
    "name": "ipython",
    "version": 3
   },
   "file_extension": ".py",
   "mimetype": "text/x-python",
   "name": "python",
   "nbconvert_exporter": "python",
   "pygments_lexer": "ipython3",
   "version": "3.8.10"
  }
 },
 "nbformat": 4,
 "nbformat_minor": 5
}
